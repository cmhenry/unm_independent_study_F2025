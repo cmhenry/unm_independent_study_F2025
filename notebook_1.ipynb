{
  "nbformat": 4,
  "nbformat_minor": 0,
  "metadata": {
    "colab": {
      "provenance": [],
      "name": "R to Python Translation Guide for Political Science"
    },
    "kernelspec": {
      "name": "python3",
      "display_name": "Python 3"
    }
  },
  "cells": [
    {
      "cell_type": "markdown",
      "metadata": {},
      "source": [
        "# 📚 Notebook 1: R-to-Python Translation Guide for Political Science\n",
        "## Your Bridge from R to Python for Text Analysis\n",
        "\n",
        "**Time to complete:** 60-90 minutes  \n",
        "**Difficulty:** Beginner friendly!  \n",
        "**Prerequisites:** You know R, that's enough!\n",
        "\n",
        "### 🎯 What You'll Learn\n",
        "1. How your R knowledge translates to Python\n",
        "2. Python equivalents for common R operations\n",
        "3. How to think in Python while leveraging your R experience\n",
        "\n",
        "---"
      ]
    },
    {
      "cell_type": "markdown",
      "metadata": {},
      "source": [
        "## 🚀 Part 0: Welcome R User!\n",
        "\n",
        "**Good news:** Python and R are more similar than different!\n",
        "\n",
        "**Your R skills that directly transfer:**\n",
        "- Working with dataframes\n",
        "- Writing functions\n",
        "- Data manipulation logic\n",
        "- Statistical thinking\n",
        "\n",
        "**What's different (but easy):**\n",
        "- Syntax details (we'll cover these!)\n",
        "- 0-based indexing (instead of 1-based)\n",
        "- Indentation matters (instead of curly braces)"
      ]
    },
    {
      "cell_type": "markdown",
      "metadata": {},
      "source": [
        "## 📦 Part 1: Library Loading - R vs Python\n",
        "\n",
        "In R, you use `library()` or `require()`. In Python, you use `import`."
      ]
    },
    {
      "cell_type": "code",
      "metadata": {},
      "source": [
        "# R Style:\n",
        "# library(tidyverse)\n",
        "# library(stringr)\n",
        "\n",
        "# Python Style:\n",
        "import pandas as pd       # Like dplyr/tidyr\n",
        "import numpy as np        # Like base R vectors/matrices\n",
        "import re                 # Like stringr\n",
        "\n",
        "print(\"✅ Libraries loaded! This is like R's library() function\")"
      ],
      "execution_count": null,
      "outputs": []
    },
    {
      "cell_type": "markdown",
      "metadata": {},
      "source": [
        "## 📊 Part 2: Dataframes - Your Familiar Friend\n",
        "\n",
        "Python's pandas DataFrames work just like R dataframes!"
      ]
    },
    {
      "cell_type": "code",
      "metadata": {},
      "source": [
        "# Let's create a sample political dataset\n",
        "# This is like R's data.frame() or tibble()\n",
        "\n",
        "data = pd.DataFrame({\n",
        "    'speaker': ['Biden', 'Trump', 'Sanders', 'Harris', 'DeSantis'],\n",
        "    'party': ['Democrat', 'Republican', 'Democrat', 'Democrat', 'Republican'],\n",
        "    'speech_length': [1250, 2100, 1800, 1500, 1900],\n",
        "    'sentiment_score': [0.65, -0.3, 0.4, 0.7, -0.1]\n",
        "})\n",
        "\n",
        "print(\"Our political speeches dataset:\")\n",
        "print(data)\n",
        "print(\"\\n📝 This is just like viewing a dataframe in R!\")"
      ],
      "execution_count": null,
      "outputs": []
    },
    {
      "cell_type": "markdown",
      "metadata": {},
      "source": [
        "## 🔄 Part 3: R to Python Operation Dictionary\n",
        "\n",
        "Here's your cheat sheet for common operations:"
      ]
    },
    {
      "cell_type": "code",
      "metadata": {},
      "source": [
        "# === R's glimpse() or str() ===\n",
        "print(\"R: glimpse(data) → Python: data.info()\")\n",
        "print(\"-\" * 40)\n",
        "data.info()"
      ],
      "execution_count": null,
      "outputs": []
    },
    {
      "cell_type": "code",
      "metadata": {},
      "source": [
        "# === R's head() ===\n",
        "print(\"\\nR: head(data, 3) → Python: data.head(3)\")\n",
        "print(\"-\" * 40)\n",
        "print(data.head(3))"
      ],
      "execution_count": null,
      "outputs": []
    },
    {
      "cell_type": "code",
      "metadata": {},
      "source": [
        "# === R's summary() ===\n",
        "print(\"\\nR: summary(data) → Python: data.describe()\")\n",
        "print(\"-\" * 40)\n",
        "print(data.describe())"
      ],
      "execution_count": null,
      "outputs": []
    },
    {
      "cell_type": "code",
      "metadata": {},
      "source": [
        "# === R's nrow() and ncol() ===\n",
        "print(\"\\nR: nrow(data) → Python: len(data) or data.shape[0]\")\n",
        "print(f\"Number of rows: {len(data)}\")\n",
        "\n",
        "print(\"\\nR: ncol(data) → Python: data.shape[1]\")\n",
        "print(f\"Number of columns: {data.shape[1]}\")\n",
        "\n",
        "print(\"\\nR: dim(data) → Python: data.shape\")\n",
        "print(f\"Dimensions: {data.shape}\")"
      ],
      "execution_count": null,
      "outputs": []
    },
    {
      "cell_type": "markdown",
      "metadata": {},
      "source": [
        "## 🔍 Part 4: Data Selection - The Python Way\n",
        "\n",
        "Selecting data in Python is similar to R, just different syntax!"
      ]
    },
    {
      "cell_type": "code",
      "metadata": {},
      "source": [
        "# === Selecting Columns ===\n",
        "\n",
        "# R style: data$speaker or data[['speaker']]\n",
        "# Python style:\n",
        "print(\"Single column (like R's $):\")\n",
        "print(data['speaker'])\n",
        "print()\n",
        "\n",
        "# Multiple columns\n",
        "# R: select(data, speaker, party)\n",
        "# Python:\n",
        "print(\"Multiple columns (like R's select):\")\n",
        "print(data[['speaker', 'party']])"
      ],
      "execution_count": null,
      "outputs": []
    },
    {
      "cell_type": "code",
      "metadata": {},
      "source": [
        "# === Filtering Rows ===\n",
        "\n",
        "# R: filter(data, party == \"Democrat\")\n",
        "# Python:\n",
        "democrats = data[data['party'] == 'Democrat']\n",
        "print(\"Democrats only (like R's filter):\")\n",
        "print(democrats)\n",
        "print()\n",
        "\n",
        "# R: filter(data, speech_length > 1600)\n",
        "# Python:\n",
        "long_speeches = data[data['speech_length'] > 1600]\n",
        "print(\"Long speeches (> 1600 words):\")\n",
        "print(long_speeches)"
      ],
      "execution_count": null,
      "outputs": []
    },
    {
      "cell_type": "code",
      "metadata": {},
      "source": [
        "# === Multiple Conditions ===\n",
        "\n",
        "# R: filter(data, party == \"Democrat\" & speech_length > 1500)\n",
        "# Python: use & instead of &&, | instead of ||\n",
        "dems_long = data[(data['party'] == 'Democrat') & (data['speech_length'] > 1500)]\n",
        "print(\"Democrats with long speeches:\")\n",
        "print(dems_long)\n",
        "\n",
        "# Note: Parentheses around each condition are important in Python!"
      ],
      "execution_count": null,
      "outputs": []
    },
    {
      "cell_type": "markdown",
      "metadata": {},
      "source": [
        "## 🛠 Part 5: Data Manipulation - dplyr → pandas"
      ]
    },
    {
      "cell_type": "code",
      "metadata": {},
      "source": [
        "# === Adding New Columns (mutate) ===\n",
        "\n",
        "# R: mutate(data, words_per_minute = speech_length / 10)\n",
        "# Python:\n",
        "data['words_per_minute'] = data['speech_length'] / 10\n",
        "print(\"Added words_per_minute column:\")\n",
        "print(data)"
      ],
      "execution_count": null,
      "outputs": []
    },
    {
      "cell_type": "code",
      "metadata": {},
      "source": [
        "# === Group By and Summarize ===\n",
        "\n",
        "# R: data %>% group_by(party) %>% summarise(mean_length = mean(speech_length))\n",
        "# Python:\n",
        "party_summary = data.groupby('party').agg({\n",
        "    'speech_length': 'mean',\n",
        "    'sentiment_score': 'mean'\n",
        "}).round(2)\n",
        "\n",
        "print(\"\\nMean values by party (like R's group_by + summarise):\")\n",
        "print(party_summary)"
      ],
      "execution_count": null,
      "outputs": []
    },
    {
      "cell_type": "code",
      "metadata": {},
      "source": [
        "# === Sorting (arrange) ===\n",
        "\n",
        "# R: arrange(data, desc(speech_length))\n",
        "# Python:\n",
        "sorted_data = data.sort_values('speech_length', ascending=False)\n",
        "print(\"\\nSorted by speech length (like R's arrange):\")\n",
        "print(sorted_data[['speaker', 'speech_length']])"
      ],
      "execution_count": null,
      "outputs": []
    },
    {
      "cell_type": "markdown",
      "metadata": {},
      "source": [
        "## 💬 Part 6: String Operations - stringr → re & string methods"
      ]
    },
    {
      "cell_type": "code",
      "metadata": {},
      "source": [
        "# Sample text data\n",
        "texts = pd.DataFrame({\n",
        "    'speech': [\n",
        "        \"We must unite the AMERICAN people!\",\n",
        "        \"This administration has FAILED America\",\n",
        "        \"Healthcare is a HUMAN RIGHT for all\",\n",
        "        \"We will build back BETTER together\",\n",
        "        \"The woke agenda is DESTROYING our values\"\n",
        "    ],\n",
        "    'speaker': ['Biden', 'Trump', 'Sanders', 'Harris', 'DeSantis']\n",
        "})\n",
        "\n",
        "print(\"Our text data:\")\n",
        "print(texts)"
      ],
      "execution_count": null,
      "outputs": []
    },
    {
      "cell_type": "code",
      "metadata": {},
      "source": [
        "# === Basic String Operations ===\n",
        "\n",
        "# R: str_to_lower()\n",
        "# Python:\n",
        "texts['speech_lower'] = texts['speech'].str.lower()\n",
        "print(\"\\nLowercase (like R's str_to_lower):\")\n",
        "print(texts[['speech_lower']].head(2))\n",
        "\n",
        "# R: str_length()\n",
        "# Python:\n",
        "texts['length'] = texts['speech'].str.len()\n",
        "print(\"\\nString length (like R's str_length):\")\n",
        "print(texts[['speaker', 'length']])"
      ],
      "execution_count": null,
      "outputs": []
    },
    {
      "cell_type": "code",
      "metadata": {},
      "source": [
        "# === Pattern Detection ===\n",
        "\n",
        "# R: str_detect(speech, \"America\")\n",
        "# Python:\n",
        "texts['mentions_america'] = texts['speech'].str.contains('America', case=False)\n",
        "print(\"\\nWho mentions America? (like R's str_detect):\")\n",
        "print(texts[['speaker', 'mentions_america']])"
      ],
      "execution_count": null,
      "outputs": []
    },
    {
      "cell_type": "code",
      "metadata": {},
      "source": [
        "# === Pattern Extraction ===\n",
        "\n",
        "import re\n",
        "\n",
        "# R: str_extract_all(speech, \"[A-Z]{2,}\")\n",
        "# Python: Extract CAPITALIZED words\n",
        "def extract_caps(text):\n",
        "    return re.findall(r'[A-Z]{2,}', text)\n",
        "\n",
        "texts['emphasis_words'] = texts['speech'].apply(extract_caps)\n",
        "print(\"\\nCapitalized words for emphasis:\")\n",
        "print(texts[['speaker', 'emphasis_words']])"
      ],
      "execution_count": null,
      "outputs": []
    },
    {
      "cell_type": "markdown",
      "metadata": {},
      "source": [
        "## 🎯 Part 7: Your Turn! Practice Exercises\n",
        "\n",
        "Now let's practice with political science examples.\n",
        "**Modify only the sections marked with === MODIFY THIS SECTION ===**"
      ]
    },
    {
      "cell_type": "code",
      "metadata": {},
      "source": [
        "# Exercise 1: Create your own political dataset\n",
        "# Task: Create a dataframe with at least 3 columns about political topics\n",
        "\n",
        "# === MODIFY THIS SECTION ===\n",
        "# Change this to your own data!\n",
        "my_data = pd.DataFrame({\n",
        "    'country': ['USA', 'UK', 'Canada'],\n",
        "    'leader': ['Biden', 'Sunak', 'Trudeau'],\n",
        "    'approval_rating': [42, 28, 31]\n",
        "})\n",
        "# === END MODIFICATION ===\n",
        "\n",
        "print(\"Your dataset:\")\n",
        "print(my_data)\n",
        "print(\"\\nGreat job! You just created a Python dataframe!\")"
      ],
      "execution_count": null,
      "outputs": []
    },
    {
      "cell_type": "code",
      "metadata": {},
      "source": [
        "# Exercise 2: Filter and analyze your data\n",
        "# Task: Filter for countries with approval > 30 and calculate mean\n",
        "\n",
        "# === MODIFY THIS SECTION ===\n",
        "# Change the filter condition\n",
        "high_approval = my_data[my_data['approval_rating'] > 30]\n",
        "# === END MODIFICATION ===\n",
        "\n",
        "print(\"Filtered results:\")\n",
        "print(high_approval)\n",
        "print(f\"\\nMean approval rating: {high_approval['approval_rating'].mean():.1f}%\")"
      ],
      "execution_count": null,
      "outputs": []
    },
    {
      "cell_type": "code",
      "metadata": {},
      "source": [
        "# Exercise 3: Text processing\n",
        "# Task: Count words in political statements\n",
        "\n",
        "sample_statements = pd.DataFrame({\n",
        "    'statement': [\n",
        "        \"We will build a better future\",\n",
        "        \"The economy needs immediate reform\",\n",
        "        \"Climate change is our greatest challenge\"\n",
        "    ]\n",
        "})\n",
        "\n",
        "# === MODIFY THIS SECTION ===\n",
        "# Add a column counting words (hint: split and count)\n",
        "sample_statements['word_count'] = sample_statements['statement'].apply(lambda x: len(x.split()))\n",
        "# === END MODIFICATION ===\n",
        "\n",
        "print(\"Word counts:\")\n",
        "print(sample_statements)"
      ],
      "execution_count": null,
      "outputs": []
    },
    {
      "cell_type": "markdown",
      "metadata": {},
      "source": [
        "## 📊 Part 8: Quick Visualization\n",
        "\n",
        "Just like R's ggplot, Python has plotting! We'll use plotly (similar grammar to ggplot)"
      ]
    },
    {
      "cell_type": "code",
      "metadata": {},
      "source": [
        "import plotly.express as px\n",
        "\n",
        "# Create a simple bar chart\n",
        "# R: ggplot(data, aes(x=speaker, y=speech_length, fill=party)) + geom_bar()\n",
        "# Python with plotly:\n",
        "\n",
        "fig = px.bar(data, \n",
        "             x='speaker', \n",
        "             y='speech_length',\n",
        "             color='party',\n",
        "             title='Speech Length by Speaker',\n",
        "             color_discrete_map={'Democrat': 'blue', 'Republican': 'red'})\n",
        "\n",
        "fig.show()\n",
        "\n",
        "print(\"📊 This is like ggplot2 in R! Same concept, slightly different syntax.\")"
      ],
      "execution_count": null,
      "outputs": []
    },
    {
      "cell_type": "markdown",
      "metadata": {},
      "source": [
        "## 🎓 Part 9: Functions - Almost Identical to R!"
      ]
    },
    {
      "cell_type": "code",
      "metadata": {},
      "source": [
        "# R function:\n",
        "# calculate_readability <- function(text) {\n",
        "#   words <- str_count(text, \"\\\\w+\")\n",
        "#   sentences <- str_count(text, \"[.!?]\")\n",
        "#   return(words / sentences)\n",
        "# }\n",
        "\n",
        "# Python function (notice: no curly braces, just indentation!)\n",
        "def calculate_readability(text):\n",
        "    \"\"\"Calculate simple readability score\"\"\"\n",
        "    words = len(text.split())\n",
        "    sentences = len(re.findall(r'[.!?]', text)) or 1  # Avoid division by zero\n",
        "    return words / sentences\n",
        "\n",
        "# Test it\n",
        "test_text = \"This is important. Is it clear? We must act now!\"\n",
        "score = calculate_readability(test_text)\n",
        "print(f\"Readability score: {score:.1f} words per sentence\")"
      ],
      "execution_count": null,
      "outputs": []
    },
    {
      "cell_type": "code",
      "metadata": {},
      "source": [
        "# === YOUR TURN: Create a function ===\n",
        "# Task: Create a function that counts political keywords\n",
        "\n",
        "# === MODIFY THIS SECTION ===\n",
        "def count_political_keywords(text):\n",
        "    \"\"\"Count political keywords in text\"\"\"\n",
        "    # Add your keywords\n",
        "    keywords = ['democracy', 'freedom', 'rights', 'justice']\n",
        "    \n",
        "    # Convert to lowercase for matching\n",
        "    text_lower = text.lower()\n",
        "    \n",
        "    # Count keywords\n",
        "    count = sum(1 for word in keywords if word in text_lower)\n",
        "    return count\n",
        "# === END MODIFICATION ===\n",
        "\n",
        "# Test your function\n",
        "test_speech = \"Democracy and freedom are fundamental rights in our justice system\"\n",
        "keyword_count = count_political_keywords(test_speech)\n",
        "print(f\"Found {keyword_count} political keywords\")"
      ],
      "execution_count": null,
      "outputs": []
    },
    {
      "cell_type": "markdown",
      "metadata": {},
      "source": [
        "## 🌟 Part 10: Key Differences to Remember\n",
        "\n",
        "### 1. **Indexing starts at 0, not 1**"
      ]
    },
    {
      "cell_type": "code",
      "metadata": {},
      "source": [
        "my_list = ['first', 'second', 'third']\n",
        "print(f\"R: my_list[1] = 'first'\")\n",
        "print(f\"Python: my_list[0] = '{my_list[0]}'\")\n",
        "print(f\"Python: my_list[1] = '{my_list[1]}'\")"
      ],
      "execution_count": null,
      "outputs": []
    },
    {
      "cell_type": "markdown",
      "metadata": {},
      "source": [
        "### 2. **Indentation matters (no curly braces)**"
      ]
    },
    {
      "cell_type": "code",
      "metadata": {},
      "source": [
        "# R uses curly braces:\n",
        "# if (x > 5) {\n",
        "#   print(\"big\")\n",
        "# } else {\n",
        "#   print(\"small\")\n",
        "# }\n",
        "\n",
        "# Python uses indentation:\n",
        "x = 10\n",
        "if x > 5:\n",
        "    print(\"big\")       # Must be indented!\n",
        "else:\n",
        "    print(\"small\")     # Same indentation level as if"
      ],
      "execution_count": null,
      "outputs": []
    },
    {
      "cell_type": "markdown",
      "metadata": {},
      "source": [
        "### 3. **Use : for slicing (not just for sequences)**"
      ]
    },
    {
      "cell_type": "code",
      "metadata": {},
      "source": [
        "numbers = [0, 1, 2, 3, 4, 5]\n",
        "print(f\"R: numbers[2:4] would give indices 2,3,4\")\n",
        "print(f\"Python: numbers[2:4] = {numbers[2:4]}  (gives indices 2,3)\")\n",
        "print(\"Note: Python's upper bound is exclusive!\")"
      ],
      "execution_count": null,
      "outputs": []
    },
    {
      "cell_type": "markdown",
      "metadata": {},
      "source": [
        "## ✅ Congratulations! You've Completed the R-to-Python Translation Guide!\n",
        "\n",
        "### 📝 What You've Learned:\n",
        "- ✅ Python DataFrames are just like R dataframes\n",
        "- ✅ Your R logic translates directly to Python\n",
        "- ✅ The syntax is different but concepts are the same\n",
        "- ✅ You can do everything in Python that you do in R\n",
        "\n",
        "### 🎯 Next Steps:\n",
        "1. Save this notebook for reference\n",
        "2. Try modifying the exercises with your own data\n",
        "3. Move on to Notebook 2: Python Essentials for Text Analysis\n",
        "\n",
        "### 💡 Remember:\n",
        "- **You're not starting from scratch** - your R knowledge is valuable!\n",
        "- **Python is a tool** - focus on your research, not becoming a programmer\n",
        "- **Help is always available** - post questions in Slack!\n",
        "\n",
        "### 📚 Quick Reference Card:\n",
        "```\n",
        "R → Python Cheat Sheet:\n",
        "-----------------------\n",
        "library(pkg) → import pkg\n",
        "df$col → df['col']\n",
        "filter() → df[condition]\n",
        "mutate() → df['new_col'] = \n",
        "group_by() → df.groupby()\n",
        "%>% → . (dot chaining)\n",
        "is.na() → .isna()\n",
        "!is.na() → .notna()\n",
        "```\n",
        "\n",
        "**🚀 Ready for the next notebook? You've got this!**"
      ]
    }
  ]
}